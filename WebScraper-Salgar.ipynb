{
 "cells": [
  {
   "cell_type": "code",
   "execution_count": 1,
   "metadata": {},
   "outputs": [],
   "source": [
    "import requests\n",
    "from bs4 import BeautifulSoup"
   ]
  },
  {
   "cell_type": "code",
   "execution_count": 60,
   "metadata": {},
   "outputs": [],
   "source": [
    "url = requests.get('https://www.salgar.net/es/conjunto-completo-almagro-600-blanco')\n",
    "soup = BeautifulSoup(url.content, 'lxml')"
   ]
  },
  {
   "cell_type": "code",
   "execution_count": 36,
   "metadata": {},
   "outputs": [],
   "source": [
    "titulo = soup.find('h1', class_ = 'product-main-title').text\n",
    "sku = soup.find('span', class_ = 'val').text\n",
    "price = soup.find('span', class_= 'price').span.attrs['content']"
   ]
  },
  {
   "cell_type": "code",
   "execution_count": 65,
   "metadata": {},
   "outputs": [],
   "source": [
    "def getDesc(soupObject):\n",
    "    desc = soupObject.find_all('div', class_ = 'html-output')\n",
    "    for valor in desc:\n",
    "        if valor.p is not None:\n",
    "            descripcion = valor.text\n",
    "    return descripcion"
   ]
  },
  {
   "cell_type": "code",
   "execution_count": 66,
   "metadata": {},
   "outputs": [],
   "source": [
    "def getPhotos(soupObject):\n",
    "    photos = soupObject.find_all('div', class_ = 'item-img-wrap')\n",
    "    ph = []\n",
    "    conj = set()\n",
    "    for valor in photos:\n",
    "        u  = valor.img.attrs['src']\n",
    "        if u not in conj:\n",
    "            conj.add(u)\n",
    "            ph.append(u)\n",
    "    texto = ''\n",
    "    for valor in ph:\n",
    "        texto+= valor +','\n",
    "    photos = texto[:-1]\n",
    "    return photos"
   ]
  },
  {
   "cell_type": "code",
   "execution_count": 67,
   "metadata": {},
   "outputs": [],
   "source": [
    "def getEAN(soupObject):\n",
    "    eans = soupObject.find_all('div', class_ = 'container-customtag-characteristic')\n",
    "    for valor in eans:\n",
    "        valor.find('div', class_ = 'container-customtag-characteristic-name').text\n",
    "        if valor.find('div', class_ = 'container-customtag-characteristic-name').text == '\\nEAN\\n':\n",
    "            EAN = valor.find('div', class_ = 'container-customtag-characteristic-text').text\n",
    "            EAN = EAN[1:-1]\n",
    "    return EAN"
   ]
  },
  {
   "cell_type": "code",
   "execution_count": 68,
   "metadata": {},
   "outputs": [],
   "source": [
    "def recorrer_producto(url):\n",
    "    page = requests.get(url)\n",
    "    soupObject = BeautifulSoup(page.content, 'lxml')\n",
    "    titulo = soupObject.find('h1', class_ = 'product-main-title').text\n",
    "    sku = soupObject.find('span', class_ = 'val').text\n",
    "    price = soupObject.find('span', class_= 'price').span.attrs['content']\n",
    "    desc = getDesc(soupObject)\n",
    "    photos = getPhotos(soupObject)\n",
    "    EAN = getEAN(soupObject)\n",
    "recorrer_producto('https://www.salgar.net/es/conjunto-completo-almagro-600-blanco')"
   ]
  },
  {
   "cell_type": "code",
   "execution_count": null,
   "metadata": {},
   "outputs": [],
   "source": []
  }
 ],
 "metadata": {
  "kernelspec": {
   "display_name": "Python 3",
   "language": "python",
   "name": "python3"
  },
  "language_info": {
   "codemirror_mode": {
    "name": "ipython",
    "version": 3
   },
   "file_extension": ".py",
   "mimetype": "text/x-python",
   "name": "python",
   "nbconvert_exporter": "python",
   "pygments_lexer": "ipython3",
   "version": "3.7.4"
  }
 },
 "nbformat": 4,
 "nbformat_minor": 2
}
